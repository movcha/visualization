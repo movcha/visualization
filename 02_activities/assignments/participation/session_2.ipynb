{
 "cells": [
  {
   "cell_type": "markdown",
   "metadata": {},
   "source": [
    "Session 2  2024/07/24"
   ]
  },
  {
   "cell_type": "markdown",
   "metadata": {},
   "source": [
    "Explore Book:\n",
    "Chapter 3 ( On Rational, Scientific, Objective Viewpoints from Mythical, Imaginary, Impossible Standpoints ) of DʼIgnazio and Klein (2020). Data Feminism. MIT Press.\n",
    "\n",
    "Image Manipulation by microbiologist Dr. Elisabeth Bik\n",
    "\n",
    "Reproducibility\n",
    "- others can repeat your steps to generate the same results\n",
    "- easier to make edits\n",
    "- work programmatically\n",
    "- comment your code\n",
    "\n",
    "How to choose visualisation type?\n",
    "\n",
    "Visualization #1:\n",
    "- US Gun Killings in 2018\n",
    "- Trends in gun violence\n",
    "- Correlations with other factors\n",
    "- It is objective (presents facts) but using emotions\n",
    "\n",
    "Visualization #2:\n",
    "- Washington Post Active Shooters Graphic\n",
    "- Incidents involving active shooters\n",
    "- Location?\n",
    "- Trends over time\n",
    "- Neutrality (not emotional)\n",
    "\n",
    "Visualization #3:\n",
    "- Jobs Report Graphic\n",
    "- Can highlight trend when needed\n",
    "- Visualization = Interpretation?\n",
    "\n",
    "Taking advantage of cognitive psychology\n",
    "\n",
    "The Data Visualisation Catalogue\n",
    "https://datavizcatalogue.com/search.html\n",
    "\n",
    "FT Visual Vocabulary - Power BI Edition\n",
    "https://community.fabric.microsoft.com/t5/Data-Stories-Gallery/FT-Visual-Vocabulary-Power-BI-Edition/td-p/584460"
   ]
  }
 ],
 "metadata": {
  "kernelspec": {
   "display_name": "dsi_participant",
   "language": "python",
   "name": "python3"
  },
  "language_info": {
   "name": "python",
   "version": "3.9.15"
  }
 },
 "nbformat": 4,
 "nbformat_minor": 2
}
